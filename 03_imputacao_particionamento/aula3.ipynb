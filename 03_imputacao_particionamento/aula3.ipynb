{
 "cells": [
  {
   "cell_type": "markdown",
   "id": "6285fc78",
   "metadata": {},
   "source": [
    "Imputação e particionamento de dados\n",
    "================================\n",
    "\n",
    "Professor: Marcos Cesar Gritti  \n",
    "Email: cesargritti@gmail.com\n",
    "\n",
    "Neste notebook, vamos aprender a:\n",
    "\n",
    "1. Tratar dados nulos usando métodos de Imputação;\n",
    "2. Particionar os dados para avaliação futura de performance;"
   ]
  },
  {
   "cell_type": "markdown",
   "id": "1f1f05ce",
   "metadata": {},
   "source": [
    "1 - Tratamento de dados nulos\n",
    "=========================\n",
    "\n",
    "Carregue o conjunto de dados disponibilizado para este exercício (arquivo *dados.parquet*), identifique\n",
    "os valores nulos, e trate-os utilizando o **Pandas**."
   ]
  },
  {
   "cell_type": "markdown",
   "id": "70a8accf",
   "metadata": {},
   "source": [
    "2 - Particionamento de dados\n",
    "========================\n",
    "\n",
    "Particionar dados significa dividí-los em subconjuntos de amostras. Em **Análise de Séries Temporais**, **Data Mining** e **Machine Learning**, é importante segregar os dados em conjuntos de **treinamento** e em conjuntos **teste**.\n",
    "\n",
    "**Por que?**\n",
    "\n",
    "Precisamos separar alguns dados para teste para que possamos verificar a qualidade da solução de forma justa, ou seja, em um conjunto de dados não visto previamente pelo algorítmo no momento de treinamento do modelo. Essa técnica recebe o nome de **Validação Cruzada** (*Cross Validation*). Existem várias formas de aplicar a **Validação Cruzada**:\n",
    " - Segregação em **Treinamento** e **Teste**;\n",
    " - Segregação em **Treinamento**, **Teste** e **Validação**;\n",
    " - KFold Cross Validation (Vários conjuntos de **Treinamento** e **Validação** para otimização de hiperparâmetros);\n",
    " - KFold Nested Cross Validation;\n",
    " \n",
    "Neste exercício, vamos segregar os dados em um conjunto de **treinamento** e um conjunto de **teste**, garantindo que amostras \n",
    "\n",
    "**Exercício**: Particione os dados da série temporal para futuros testes de performance, e salv\n",
    "\n",
    "**Dica**: Procure pela documentação da função `train_test_split`, pertencente ao pacote `model_selection` da biblioteca `sklearn`. "
   ]
  },
  {
   "cell_type": "code",
   "execution_count": null,
   "id": "eb11c79c",
   "metadata": {},
   "outputs": [],
   "source": []
  }
 ],
 "metadata": {
  "kernelspec": {
   "display_name": "Python 3 (ipykernel)",
   "language": "python",
   "name": "python3"
  },
  "language_info": {
   "codemirror_mode": {
    "name": "ipython",
    "version": 3
   },
   "file_extension": ".py",
   "mimetype": "text/x-python",
   "name": "python",
   "nbconvert_exporter": "python",
   "pygments_lexer": "ipython3",
   "version": "3.8.10"
  }
 },
 "nbformat": 4,
 "nbformat_minor": 5
}
